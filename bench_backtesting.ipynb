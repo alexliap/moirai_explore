{
 "cells": [
  {
   "cell_type": "code",
   "execution_count": null,
   "id": "83e7938a-eded-4f34-8d41-5ec0d62432e8",
   "metadata": {},
   "outputs": [],
   "source": [
    "import os\n",
    "import torch\n",
    "import numpy as np\n",
    "import pandas as pd\n",
    "import matplotlib.pyplot as plt\n",
    "from einops import rearrange\n",
    "from gluonts.dataset.pandas import PandasDataset, is_uniform, infer_freq\n",
    "from gluonts.dataset.split import split\n",
    "from uni2ts.model.moirai import MoiraiForecast, MoiraiModule\n",
    "from uni2ts.eval_util.plot import plot_single, plot_next_multi\n",
    "from uni2ts.eval_util.evaluation import evaluate_model\n",
    "from gluonts.ev.metrics import MAE, MAPE\n",
    "\n",
    "from mov_av import moving_average"
   ]
  },
  {
   "cell_type": "code",
   "execution_count": null,
   "id": "cbbc1c02-a345-449a-abd2-81de251ad476",
   "metadata": {},
   "outputs": [],
   "source": [
    "it_data_23_24 = pd.read_csv('data/it_load_data_23_24.csv', delimiter=',')\n",
    "it_data_23_24['DateUTC'] = pd.to_datetime(it_data_23_24['DateUTC'])\n",
    "it_data_23_24 = it_data_23_24.set_index('DateUTC')"
   ]
  },
  {
   "cell_type": "code",
   "execution_count": null,
   "id": "3a64e0bb-b13d-446d-bb92-f3caa314afbc",
   "metadata": {},
   "outputs": [],
   "source": [
    "# PDT = 7 * 24  # prediction length: any positive integer\n",
    "# PSZ = \"auto\"  # patch size: choose from {\"auto\", 8, 16, 32, 64, 128}\n",
    "# BSZ = 24  # batch size: any positive integer\n",
    "\n",
    "# DIST = PDT"
   ]
  },
  {
   "cell_type": "code",
   "execution_count": null,
   "id": "70be4c37-8f3c-40f6-be0b-68fc4c2bff0d",
   "metadata": {},
   "outputs": [],
   "source": [
    "from uni2ts.alex.common.benchmark_func import *"
   ]
  },
  {
   "cell_type": "code",
   "execution_count": null,
   "id": "44c9936b-d391-49e4-99d4-32046cef38bb",
   "metadata": {},
   "outputs": [],
   "source": [
    "data = it_data_23_24\n",
    "\n",
    "# model_folder = \"outputs/finetune/moirai_small/1st_run/checkpoints/it_load_data_train_\"\n",
    "# backtesting_with_refit = get_run_metrics(model_folder, data, \"MAPE\")\n",
    "\n",
    "# model_folder = \"outputs/finetune/moirai_small/2nd_run/checkpoints/it_load_data_train_\"\n",
    "# refit_1_pass =  get_run_metrics(model_folder, data, \"MAPE\")\n",
    "\n",
    "# model_folder = \"outputs/finetune/moirai_small/3rd_run/checkpoints/it_load_data_train_\"\n",
    "# refit_multiple_passes = get_run_metrics(model_folder, data, \"MAPE\")\n",
    "\n",
    "model_folder = \"pretrained\"\n",
    "pretrained = get_run_metrics(model_folder, prediction_lenght=7*24,\n",
    "                             data=data, metric=\"MAPE\", quantiles=[0.05, 0.5, 0.95], num_samples=20)"
   ]
  },
  {
   "cell_type": "code",
   "execution_count": null,
   "id": "b25347bc-2d0e-4de7-b535-52a17ab98684",
   "metadata": {},
   "outputs": [],
   "source": [
    "backtesting_with_refit = pd.concat(backtesting_with_refit, axis=0)\n",
    "refit_1_pass = pd.concat(refit_1_pass, axis=0)\n",
    "refit_multiple_passes = pd.concat(refit_multiple_passes, axis=0)\n",
    "pretrained = pd.concat(pretrained, axis=0)"
   ]
  },
  {
   "cell_type": "code",
   "execution_count": null,
   "id": "689228ce-19e2-432e-b65c-7aa03b92d86f",
   "metadata": {},
   "outputs": [],
   "source": [
    "backtesting_with_refit['MAPE[0.95]'].plot(label='Backtesting with refit')\n",
    "refit_1_pass['MAPE[0.95]'].plot(label='Refit (1 backword pass)')\n",
    "refit_multiple_passes['MAPE[0.95]'].plot(label='Refit (multiple backword passes)')\n",
    "pretrained['MAPE[0.95]'].plot(label='Pretrained')\n",
    "plt.xticks(range(0, 26), range(1, 27))\n",
    "plt.xlabel('Number of weeks')\n",
    "plt.ylabel('MAPE')\n",
    "plt.title('Benchmark on MAPE based on 95th percentile')\n",
    "plt.legend()\n",
    "plt.tight_layout()\n",
    "plt.savefig(\"experiment_results/after_finetuning/mape_95th_perc.png\");"
   ]
  },
  {
   "cell_type": "code",
   "execution_count": null,
   "id": "f1a5f835-0664-4d1f-b891-c554c59e7e64",
   "metadata": {},
   "outputs": [],
   "source": [
    "backtesting_with_refit['MAPE[0.5]'].plot(label='Backtesting with refit')\n",
    "refit_1_pass['MAPE[0.5]'].plot(label='Refit (1 backword pass)')\n",
    "refit_multiple_passes['MAPE[0.5]'].plot(label='Refit (multiple backword passes)')\n",
    "pretrained['MAPE[0.5]'].plot(label='Pretrained')\n",
    "plt.xticks(range(0, 26), range(1, 27))\n",
    "plt.xlabel('Number of weeks')\n",
    "plt.ylabel('MAPE')\n",
    "plt.title('Benchmark on MAPE based on 50th percentile')\n",
    "plt.legend()\n",
    "plt.tight_layout()\n",
    "plt.savefig(\"experiment_results/after_finetuning/mape_50th_perc.png\");"
   ]
  },
  {
   "cell_type": "code",
   "execution_count": null,
   "id": "ed2ed8da-6746-4ad5-a6dc-44f23210cff9",
   "metadata": {},
   "outputs": [],
   "source": [
    "model_folder = \"outputs/finetune/moirai_small/1st_run/checkpoints/it_load_data_train_\"\n",
    "data = it_data_23_24\n",
    "\n",
    "model, test_data = get_model_data(model_folder, 26, data)\n",
    "\n",
    "predictor = model.create_predictor(batch_size=BSZ)\n",
    "forecasts = predictor.predict(test_data.input)\n",
    "\n",
    "input_it = iter(test_data.input)\n",
    "label_it = iter(test_data.label)\n",
    "forecast_it = iter(forecasts)\n",
    "\n",
    "NUM_WINDOWS = 1\n",
    "\n",
    "fig, axes = plt.subplots(nrows=NUM_WINDOWS, ncols=1, figsize=(8, NUM_WINDOWS * 4))\n",
    "plot_next_multi(\n",
    "    axes,\n",
    "    input_it,\n",
    "    label_it,\n",
    "    forecast_it,\n",
    "    context_length=1 * 168,\n",
    "    intervals=(0.9, 0.95),\n",
    "    dim=None,\n",
    "    name=\"Prediction\",\n",
    "    show_label=True,\n",
    ")\n",
    "plt.tight_layout()"
   ]
  },
  {
   "cell_type": "code",
   "execution_count": null,
   "id": "d9655726-832b-429f-8bea-3baa40609538",
   "metadata": {},
   "outputs": [],
   "source": [
    "model = load_pretrained(720)\n",
    "\n",
    "predictor = model.create_predictor(batch_size=BSZ)\n",
    "forecasts = predictor.predict(test_data.input)\n",
    "\n",
    "input_it = iter(test_data.input)\n",
    "label_it = iter(test_data.label)\n",
    "forecast_it = iter(forecasts)\n",
    "\n",
    "NUM_WINDOWS = 1\n",
    "\n",
    "fig, axes = plt.subplots(nrows=NUM_WINDOWS, ncols=1, figsize=(8, NUM_WINDOWS * 4))\n",
    "plot_next_multi(\n",
    "    axes,\n",
    "    input_it,\n",
    "    label_it,\n",
    "    forecast_it,\n",
    "    context_length=1 * 168,\n",
    "    intervals=(0.9, 0.95),\n",
    "    dim=None,\n",
    "    name=\"Prediction\",\n",
    "    show_label=True,\n",
    ")\n",
    "plt.tight_layout()"
   ]
  },
  {
   "cell_type": "code",
   "execution_count": null,
   "id": "dcfb4412-e48e-46d8-99b6-2c4d7f52e999",
   "metadata": {},
   "outputs": [],
   "source": []
  }
 ],
 "metadata": {
  "kernelspec": {
   "display_name": "Python 3 (ipykernel)",
   "language": "python",
   "name": "python3"
  },
  "language_info": {
   "codemirror_mode": {
    "name": "ipython",
    "version": 3
   },
   "file_extension": ".py",
   "mimetype": "text/x-python",
   "name": "python",
   "nbconvert_exporter": "python",
   "pygments_lexer": "ipython3",
   "version": "3.11.7"
  }
 },
 "nbformat": 4,
 "nbformat_minor": 5
}
