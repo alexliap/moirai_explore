{
 "cells": [
  {
   "cell_type": "code",
   "execution_count": 4,
   "id": "a84496d8-3116-4129-8628-ae7bf98e95e6",
   "metadata": {},
   "outputs": [],
   "source": [
    "import itertools\n",
    "import numpy as np"
   ]
  },
  {
   "cell_type": "code",
   "execution_count": 13,
   "id": "e3339f5a-0e2a-41f2-83fa-1df92431e5e6",
   "metadata": {},
   "outputs": [
    {
     "name": "stdout",
     "output_type": "stream",
     "text": [
      "[ 0.70878608 -0.25927588  0.39169713 -0.5819111   1.15554684]\n",
      "[ 0.41433403  0.56123207 -0.08317072 -0.43987819 -0.57937897]\n",
      "[ 1.40221176  0.6887398   0.92725566 -2.4420542   1.33947151]\n",
      "[-0.59791805  2.51004961 -1.29489344 -0.23691875  0.33985325]\n",
      "[-0.14317205  1.16522759  0.2833197   0.93023248 -1.30443693]\n"
     ]
    }
   ],
   "source": [
    "for i in itertools.islice(np_iterator(), 5): \n",
    "    print(i)"
   ]
  },
  {
   "cell_type": "code",
   "execution_count": 11,
   "id": "daa70b91-28a6-42fe-925a-7709976010cc",
   "metadata": {},
   "outputs": [],
   "source": [
    "def np_iterator():\n",
    "    for i in range(10):\n",
    "        yield np.random.normal(size=(5,))"
   ]
  },
  {
   "cell_type": "code",
   "execution_count": 15,
   "id": "4312b788-4726-49d9-9c63-62404c3f67bb",
   "metadata": {},
   "outputs": [],
   "source": [
    "iterator = itertools.islice(np_iterator(), 5)"
   ]
  },
  {
   "cell_type": "code",
   "execution_count": 17,
   "id": "cddd78a9-709e-447f-92f6-18a52ceb7c58",
   "metadata": {},
   "outputs": [
    {
     "name": "stdout",
     "output_type": "stream",
     "text": [
      "[ 0.35954145 -0.22464875 -0.74027491 -0.10535948  1.53293654]\n",
      "[ 0.00525451 -1.42282004 -1.6193947   1.10184311  0.09569654]\n",
      "[ 0.26399557 -0.03280766 -0.11184549 -0.61708641  0.10113136]\n",
      "[ 0.76986205  1.3646585  -0.0153923   0.94482586 -0.45849725]\n",
      "[ 2.38808362 -1.5293974  -1.81478938  0.08341806  0.2886412 ]\n"
     ]
    }
   ],
   "source": [
    "for i in iterator:\n",
    "    print(i)"
   ]
  },
  {
   "cell_type": "code",
   "execution_count": 19,
   "id": "3e6ab4e4-a24a-42aa-8ce2-f570b4a68c73",
   "metadata": {},
   "outputs": [
    {
     "ename": "TypeError",
     "evalue": "'itertools.islice' object is not callable",
     "output_type": "error",
     "traceback": [
      "\u001b[0;31m---------------------------------------------------------------------------\u001b[0m",
      "\u001b[0;31mTypeError\u001b[0m                                 Traceback (most recent call last)",
      "Cell \u001b[0;32mIn[19], line 2\u001b[0m\n\u001b[1;32m      1\u001b[0m dummy \u001b[38;5;241m=\u001b[39m np_iterator()\n\u001b[0;32m----> 2\u001b[0m \u001b[38;5;28;43miter\u001b[39;49m\u001b[43m(\u001b[49m\u001b[43mdummy\u001b[49m\u001b[43m)\u001b[49m\n",
      "\u001b[0;31mTypeError\u001b[0m: 'itertools.islice' object is not callable"
     ]
    }
   ],
   "source": [
    "dummy = np_iterator()\n",
    "iter(dummy)"
   ]
  },
  {
   "cell_type": "code",
   "execution_count": 20,
   "id": "457cc9e1-e264-4bc5-a024-e50335f5ad9d",
   "metadata": {},
   "outputs": [
    {
     "data": {
      "text/plain": [
       "generator"
      ]
     },
     "execution_count": 20,
     "metadata": {},
     "output_type": "execute_result"
    }
   ],
   "source": [
    "type(dummy)"
   ]
  },
  {
   "cell_type": "code",
   "execution_count": null,
   "id": "57954e04-d203-41fa-bc28-aa08a5204177",
   "metadata": {},
   "outputs": [],
   "source": []
  }
 ],
 "metadata": {
  "kernelspec": {
   "display_name": "Python 3 (ipykernel)",
   "language": "python",
   "name": "python3"
  },
  "language_info": {
   "codemirror_mode": {
    "name": "ipython",
    "version": 3
   },
   "file_extension": ".py",
   "mimetype": "text/x-python",
   "name": "python",
   "nbconvert_exporter": "python",
   "pygments_lexer": "ipython3",
   "version": "3.11.7"
  }
 },
 "nbformat": 4,
 "nbformat_minor": 5
}
